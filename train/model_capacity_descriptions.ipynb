{
 "cells": [
  {
   "cell_type": "code",
   "execution_count": 2,
   "metadata": {
    "collapsed": true
   },
   "outputs": [],
   "source": [
    "from IPython.core.debugger import set_trace\n",
    "import json\n",
    "import torch\n",
    "import torchvision.transforms as T\n",
    "from torchvision import datasets\n",
    "\n",
    "from torch import nn, optim\n",
    "import torch.backends.cudnn as cudnn\n",
    "import torch.nn.functional as F\n",
    "\n",
    "import sys, os, glob, time\n",
    "import os.path as osp\n",
    "\n",
    "sys.path.append('../')\n",
    "from sense.utils.utils_from_IAAT import AverageMeter\n",
    "from sense.others.wider_resnet_coded_by_yaodongyu import WideResNet\n",
    "from sense.others.resnet_coded_by_Yerlan_Idelbayev import get_resnet_by_capa, test\n",
    "\n",
    "from sense.SENSE import SENSE \n",
    "from advertorch.attacks import LinfPGDAttack\n",
    "\n",
    "from importlib import reload"
   ]
  },
  {
   "cell_type": "code",
   "execution_count": 3,
   "metadata": {},
   "outputs": [
    {
     "name": "stdout",
     "output_type": "stream",
     "text": [
      "network: resnet20\n"
     ]
    }
   ],
   "source": [
    "model = get_resnet_by_capa(1)"
   ]
  },
  {
   "cell_type": "code",
   "execution_count": 5,
   "metadata": {},
   "outputs": [
    {
     "name": "stdout",
     "output_type": "stream",
     "text": [
      "\n",
      "\n",
      "network: resnet20\n",
      "Total number of params 269722\n",
      "Total layers 20\n",
      "The rate to the number of params of wider_resnet : 178.93455483794426\n",
      "\n",
      "\n",
      "network: resnet32\n",
      "Total number of params 464154\n",
      "Total layers 32\n",
      "The rate to the number of params of wider_resnet : 103.97968346712514\n",
      "\n",
      "\n",
      "network: resnet44\n",
      "Total number of params 658586\n",
      "Total layers 44\n",
      "The rate to the number of params of wider_resnet : 73.28213171856068\n",
      "\n",
      "\n",
      "network: resnet56\n",
      "Total number of params 853018\n",
      "Total layers 56\n",
      "The rate to the number of params of wider_resnet : 56.578625538968694\n",
      "\n",
      "\n",
      "network: resnet110\n",
      "Total number of params 1727962\n",
      "Total layers 110\n",
      "The rate to the number of params of wider_resnet : 27.930351477636663\n",
      "\n",
      "\n",
      "network: resnet1202\n",
      "Total number of params 19421274\n",
      "Total layers 1202\n",
      "The rate to the number of params of wider_resnet : 2.485037078412055\n"
     ]
    }
   ],
   "source": [
    "# Wider_resnet prameters: 48262586\n",
    "Wn = 48262586\n",
    "for capa in range(1,7):\n",
    "    print(\"\\n\")\n",
    "    model = get_resnet_by_capa(capa)\n",
    "    print (\"The rate to the number of params of wider_resnet :\",Wn/(test(model)[0]))"
   ]
  },
  {
   "cell_type": "code",
   "execution_count": null,
   "metadata": {
    "collapsed": true
   },
   "outputs": [],
   "source": []
  }
 ],
 "metadata": {
  "kernelspec": {
   "display_name": "Python (My basic Kernel)",
   "language": "python",
   "name": "basic"
  },
  "language_info": {
   "codemirror_mode": {
    "name": "ipython",
    "version": 3
   },
   "file_extension": ".py",
   "mimetype": "text/x-python",
   "name": "python",
   "nbconvert_exporter": "python",
   "pygments_lexer": "ipython3",
   "version": "3.7.6"
  }
 },
 "nbformat": 4,
 "nbformat_minor": 2
}
