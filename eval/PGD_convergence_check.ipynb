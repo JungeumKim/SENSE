{
 "cells": [
  {
   "cell_type": "code",
   "execution_count": null,
   "metadata": {
    "collapsed": true
   },
   "outputs": [],
   "source": [
    "import sys\n",
    "sys.path.append(\"../\")\n",
    "import sense.utils.model_loading as ml\n",
    "import advertorch.attacks as adver\n",
    "import torchvision.transforms as T\n",
    "from torchvision import datasets\n",
    "import torch\n",
    "import torch.nn as nn\n",
    "from importlib import reload\n",
    "\n",
    "import pandas as pd \n",
    "import matplotlib.pyplot as plt\n",
    "import numpy as np\n",
    "\n",
    "\n",
    "\n",
    "reload(adver)"
   ]
  },
  {
   "cell_type": "code",
   "execution_count": null,
   "metadata": {
    "collapsed": true
   },
   "outputs": [],
   "source": [
    "torch.manual_seed(1)\n",
    "torch.cuda.manual_seed(1)\n",
    "torch.cuda.manual_seed_all(1)"
   ]
  },
  {
   "cell_type": "code",
   "execution_count": null,
   "metadata": {
    "collapsed": true
   },
   "outputs": [],
   "source": [
    "! mkdir -p ./result/PGD_conv_check"
   ]
  },
  {
   "cell_type": "code",
   "execution_count": null,
   "metadata": {
    "collapsed": true
   },
   "outputs": [],
   "source": [
    "#config: \n",
    "n_restart=20\n",
    "nb_iter = 500\n",
    "batch_size=100"
   ]
  },
  {
   "cell_type": "markdown",
   "metadata": {},
   "source": [
    "# CIFAR"
   ]
  },
  {
   "cell_type": "code",
   "execution_count": null,
   "metadata": {
    "collapsed": true
   },
   "outputs": [],
   "source": [
    "model = ml.model_loader(\"SENSE\",\"../trained_models\")"
   ]
  },
  {
   "cell_type": "code",
   "execution_count": null,
   "metadata": {
    "collapsed": true
   },
   "outputs": [],
   "source": [
    "transform_test = T.Compose([T.ToTensor()])\n",
    "\n",
    "test_dataset = datasets.CIFAR10(\"../../../../data\", train=False, transform=transform_test)\n",
    "\n",
    "loader =  torch.utils.data.DataLoader(test_dataset, batch_size = batch_size)"
   ]
  },
  {
   "cell_type": "code",
   "execution_count": null,
   "metadata": {
    "collapsed": true
   },
   "outputs": [],
   "source": [
    "PGD = adver.LinfPGDAttack_loss_track(model, eps=8./255, eps_iter=2./255, nb_iter=nb_iter)"
   ]
  },
  {
   "cell_type": "code",
   "execution_count": null,
   "metadata": {
    "collapsed": true
   },
   "outputs": [],
   "source": [
    "x,y = iter(loader).next()\n",
    "x,y = x.cuda(), y.cuda()"
   ]
  },
  {
   "cell_type": "code",
   "execution_count": null,
   "metadata": {
    "collapsed": true
   },
   "outputs": [],
   "source": [
    "worst_fooled = torch.zeros((nb_iter,y.shape[0]),dtype=bool)\n",
    "fooled_list=[]\n",
    "losses_list=[]\n",
    "for r in range(n_restart):\n",
    "    \n",
    "    print(F\"iteration:{r}\\n\")\n",
    "    \n",
    "    _, losses,fooled = PGD(x,y)\n",
    "    \n",
    "    losses = losses.cpu()\n",
    "    fooled = fooled.cpu()\n",
    "    losses_list.append(losses)\n",
    "    fooled_list.append(fooled)\n",
    "    worst_fooled +=fooled"
   ]
  },
  {
   "cell_type": "code",
   "execution_count": null,
   "metadata": {
    "collapsed": true
   },
   "outputs": [],
   "source": [
    "#torch.save(losses_list, \"./result/PGD_conv_check/cifiar_losses_list.dat\")\n",
    "#torch.save(worst_fooled, \"./result/PGD_conv_check/cifiar_worst_fooled.dat\")\n",
    "#torch.save(fooled_list, \"./result/PGD_conv_check/cifiar_fooled_list.dat\")"
   ]
  },
  {
   "cell_type": "code",
   "execution_count": null,
   "metadata": {
    "collapsed": true
   },
   "outputs": [],
   "source": [
    "#losses_list = torch.load(\"./result/PGD_conv_check/cifiar_losses_list.dat\")\n",
    "#worst_fooled = torch.load(\"./result/PGD_conv_check/cifiar_worst_fooled.dat\")\n",
    "#fooled_list = torch.load(\"./result/PGD_conv_check/cifiar_fooled_list.dat\")"
   ]
  },
  {
   "cell_type": "code",
   "execution_count": null,
   "metadata": {
    "collapsed": true
   },
   "outputs": [],
   "source": [
    "cum_worst_fooled = [fooled_list[0]]\n",
    "for i in range(1,len(fooled_list)):\n",
    "    cum_worst_fooled.append(cum_worst_fooled[-1]+fooled_list[i]) \n",
    "mean_cum_worst_fooled = [1-fooled.float().mean(dim=1).detach().view(1,-1) for fooled in cum_worst_fooled ]"
   ]
  },
  {
   "cell_type": "code",
   "execution_count": null,
   "metadata": {
    "collapsed": true
   },
   "outputs": [],
   "source": [
    "mean_cum_worst_fooled = torch.t(torch.cat(mean_cum_worst_fooled))"
   ]
  },
  {
   "cell_type": "code",
   "execution_count": null,
   "metadata": {
    "collapsed": true
   },
   "outputs": [],
   "source": [
    "fig, (ax1, ax2) = plt.subplots(1, 2)\n",
    "#fig.suptitle('CIFAR with PGD for the first 100 examples\\n\\n')\n",
    "ax1.set_title('PGD loss')\n",
    "ax2.set_title('Accuracy, \\nWorst among 20 random restarts')\n",
    "ax1.set_xlabel('PGD steps')\n",
    "ax2.set_xlabel('PGD steps')\n",
    "\n",
    "x = np.array(range(nb_iter))\n",
    "\n",
    "ax1.plot(x,losses_list[0].detach().cpu().numpy())\n",
    "ax2.plot(x,mean_cum_worst_fooled.numpy())"
   ]
  },
  {
   "cell_type": "markdown",
   "metadata": {},
   "source": [
    "# MNIST"
   ]
  },
  {
   "cell_type": "code",
   "execution_count": null,
   "metadata": {
    "collapsed": true
   },
   "outputs": [],
   "source": [
    "#configs: \n",
    "nb_iter = 1000\n",
    "batch_size=100"
   ]
  },
  {
   "cell_type": "code",
   "execution_count": null,
   "metadata": {
    "collapsed": true
   },
   "outputs": [],
   "source": [
    "from sense.others.CNNs import SmallCNN\n",
    "\n",
    "model = SmallCNN()    \n",
    "model = nn.DataParallel(model).cuda()\n",
    "checkpoint = torch.load(\"../appendix/mnist/trained_models/mnist/SENSE_checkpoint500.dict\")\n",
    "model.load_state_dict(checkpoint['state_dict'])\n",
    "model.eval()"
   ]
  },
  {
   "cell_type": "code",
   "execution_count": null,
   "metadata": {
    "collapsed": true
   },
   "outputs": [],
   "source": [
    "transform_test = T.Compose([T.ToTensor()])\n",
    "\n",
    "test_dataset = datasets.MNIST(\"../../../../data\", train=False, transform=transform_test)\n",
    "\n",
    "loader =  torch.utils.data.DataLoader(test_dataset, batch_size = batch_size)"
   ]
  },
  {
   "cell_type": "code",
   "execution_count": null,
   "metadata": {
    "collapsed": true
   },
   "outputs": [],
   "source": [
    "PGD = adver.LinfPGDAttack_loss_track(model, eps=0.3, eps_iter=0.01, nb_iter=nb_iter)\n",
    "x,y = iter(loader).next()\n",
    "x,y = x.cuda(), y.cuda()"
   ]
  },
  {
   "cell_type": "code",
   "execution_count": null,
   "metadata": {
    "collapsed": true
   },
   "outputs": [],
   "source": [
    "worst_fooled = torch.zeros((nb_iter,y.shape[0]),dtype=bool)\n",
    "fooled_list=[]\n",
    "losses_list=[]\n",
    "for r in range(n_restart):\n",
    "    \n",
    "    print(F\"iteration:{r}\\n\")\n",
    "    \n",
    "    _, losses,fooled = PGD(x,y)\n",
    "    \n",
    "    losses = losses.cpu()\n",
    "    fooled = fooled.cpu()\n",
    "    losses_list.append(losses)\n",
    "    fooled_list.append(fooled)\n",
    "    worst_fooled +=fooled"
   ]
  },
  {
   "cell_type": "code",
   "execution_count": null,
   "metadata": {
    "collapsed": true
   },
   "outputs": [],
   "source": [
    "#torch.save(losses_list, \"./result/PGD_conv_check/mnist_losses_list.dat\")\n",
    "#torch.save(worst_fooled, \"./result/PGD_conv_check/mnist_worst_fooled.dat\")\n",
    "#torch.save(fooled_list, \"./result/PGD_conv_check/mnist_fooled_list.dat\")"
   ]
  },
  {
   "cell_type": "code",
   "execution_count": null,
   "metadata": {
    "collapsed": true
   },
   "outputs": [],
   "source": [
    "#losses_list = torch.load(\"./result/PGD_conv_check/mnist_losses_list.dat\")\n",
    "#worst_fooled = torch.load(\"./result/PGD_conv_check/mnist_worst_fooled.dat\")\n",
    "#fooled_list = torch.load(\"./result/PGD_conv_check/mnist_fooled_list.dat\")"
   ]
  },
  {
   "cell_type": "code",
   "execution_count": null,
   "metadata": {
    "collapsed": true
   },
   "outputs": [],
   "source": [
    "cum_worst_fooled = [fooled_list[0]]\n",
    "for i in range(1,len(fooled_list)):\n",
    "    cum_worst_fooled.append(cum_worst_fooled[-1]+fooled_list[i]) \n",
    "mean_cum_worst_fooled = [1-fooled.float().mean(dim=1).detach().view(1,-1) for fooled in cum_worst_fooled ]"
   ]
  },
  {
   "cell_type": "code",
   "execution_count": null,
   "metadata": {
    "collapsed": true
   },
   "outputs": [],
   "source": [
    "mean_cum_worst_fooled = torch.t(torch.cat(mean_cum_worst_fooled))"
   ]
  },
  {
   "cell_type": "code",
   "execution_count": null,
   "metadata": {
    "collapsed": true
   },
   "outputs": [],
   "source": [
    "fig, (ax1, ax2) = plt.subplots(1, 2)\n",
    "fig.suptitle('MNIST with PGD for the first 100 examples')\n",
    "ax1.set_title('PGD loss')\n",
    "ax2.set_title('Accuracy, Worst among 20 random restarts')\n",
    "ax1.set_xlabel('PGD steps')\n",
    "ax2.set_xlabel('PGD steps')\n",
    "\n",
    "#1 : epsilon = 0.3\n",
    "x = np.array(range(nb_iter))\n",
    "\n",
    "ax1.plot(x,losses_list[0].detach().cpu().numpy())\n",
    "ax2.plot(x,mean_cum_worst_fooled.numpy())"
   ]
  }
 ],
 "metadata": {
  "kernelspec": {
   "display_name": "Python (My basic Kernel)",
   "language": "python",
   "name": "basic"
  },
  "language_info": {
   "codemirror_mode": {
    "name": "ipython",
    "version": 3
   },
   "file_extension": ".py",
   "mimetype": "text/x-python",
   "name": "python",
   "nbconvert_exporter": "python",
   "pygments_lexer": "ipython3",
   "version": "3.7.6"
  }
 },
 "nbformat": 4,
 "nbformat_minor": 2
}
